{
  "nbformat": 4,
  "nbformat_minor": 0,
  "metadata": {
    "colab": {
      "name": "StockPricePrediction.ipynb",
      "provenance": [],
      "authorship_tag": "ABX9TyO+tSW9po1IHHQHuolFf2s9",
      "include_colab_link": true
    },
    "kernelspec": {
      "name": "python3",
      "display_name": "Python 3"
    }
  },
  "cells": [
    {
      "cell_type": "markdown",
      "metadata": {
        "id": "view-in-github",
        "colab_type": "text"
      },
      "source": [
        "<a href=\"https://colab.research.google.com/github/PoojaPatel21/DataCamp-Projects/blob/master/StockPricePrediction.ipynb\" target=\"_parent\"><img src=\"https://colab.research.google.com/assets/colab-badge.svg\" alt=\"Open In Colab\"/></a>"
      ]
    },
    {
      "cell_type": "code",
      "metadata": {
        "id": "MqXjDBNbtDPz",
        "colab_type": "code",
        "colab": {
          "base_uri": "https://localhost:8080/",
          "height": 89
        },
        "outputId": "0db652aa-fd9d-4768-fbb9-06c0f5db3603"
      },
      "source": [
        "#Description \n",
        "#Using RNN - LSTM long short term memory\n",
        "#Predict stock market closing price using past 60 day stock closing price for a particular company\n",
        "import pandas_datareader as web\n",
        "import pandas as pd\n",
        "import numpy as np\n",
        "import matplotlib.pyplot as plt\n",
        "import math\n",
        "from sklearn.preprocessing import MinMaxScaler\n",
        "from keras.models import Sequential\n",
        "from keras.layers import Dense, LSTM\n",
        "plt.style.use('fivethirtyeight')\n"
      ],
      "execution_count": 1,
      "outputs": [
        {
          "output_type": "stream",
          "text": [
            "/usr/local/lib/python3.6/dist-packages/pandas_datareader/compat/__init__.py:7: FutureWarning: pandas.util.testing is deprecated. Use the functions in the public API at pandas.testing instead.\n",
            "  from pandas.util.testing import assert_frame_equal\n",
            "Using TensorFlow backend.\n"
          ],
          "name": "stderr"
        }
      ]
    },
    {
      "cell_type": "code",
      "metadata": {
        "id": "vRc3MY6stcGL",
        "colab_type": "code",
        "colab": {
          "base_uri": "https://localhost:8080/",
          "height": 446
        },
        "outputId": "793a0064-8d30-4460-9b01-d7a0977c9fd6"
      },
      "source": [
        "#Getting the stock quote \n",
        "df = web.DataReader('GOOGL',data_source='yahoo',start = '2010-01-01' , end = '2020-01-01')\n",
        "df"
      ],
      "execution_count": 2,
      "outputs": [
        {
          "output_type": "execute_result",
          "data": {
            "text/html": [
              "<div>\n",
              "<style scoped>\n",
              "    .dataframe tbody tr th:only-of-type {\n",
              "        vertical-align: middle;\n",
              "    }\n",
              "\n",
              "    .dataframe tbody tr th {\n",
              "        vertical-align: top;\n",
              "    }\n",
              "\n",
              "    .dataframe thead th {\n",
              "        text-align: right;\n",
              "    }\n",
              "</style>\n",
              "<table border=\"1\" class=\"dataframe\">\n",
              "  <thead>\n",
              "    <tr style=\"text-align: right;\">\n",
              "      <th></th>\n",
              "      <th>High</th>\n",
              "      <th>Low</th>\n",
              "      <th>Open</th>\n",
              "      <th>Close</th>\n",
              "      <th>Volume</th>\n",
              "      <th>Adj Close</th>\n",
              "    </tr>\n",
              "    <tr>\n",
              "      <th>Date</th>\n",
              "      <th></th>\n",
              "      <th></th>\n",
              "      <th></th>\n",
              "      <th></th>\n",
              "      <th></th>\n",
              "      <th></th>\n",
              "    </tr>\n",
              "  </thead>\n",
              "  <tbody>\n",
              "    <tr>\n",
              "      <th>2010-01-04</th>\n",
              "      <td>315.070068</td>\n",
              "      <td>312.432434</td>\n",
              "      <td>313.788788</td>\n",
              "      <td>313.688690</td>\n",
              "      <td>3908400.0</td>\n",
              "      <td>313.688690</td>\n",
              "    </tr>\n",
              "    <tr>\n",
              "      <th>2010-01-05</th>\n",
              "      <td>314.234222</td>\n",
              "      <td>311.081085</td>\n",
              "      <td>313.903900</td>\n",
              "      <td>312.307312</td>\n",
              "      <td>6003300.0</td>\n",
              "      <td>312.307312</td>\n",
              "    </tr>\n",
              "    <tr>\n",
              "      <th>2010-01-06</th>\n",
              "      <td>313.243256</td>\n",
              "      <td>303.483490</td>\n",
              "      <td>313.243256</td>\n",
              "      <td>304.434448</td>\n",
              "      <td>7949400.0</td>\n",
              "      <td>304.434448</td>\n",
              "    </tr>\n",
              "    <tr>\n",
              "      <th>2010-01-07</th>\n",
              "      <td>305.305298</td>\n",
              "      <td>296.621613</td>\n",
              "      <td>305.005005</td>\n",
              "      <td>297.347351</td>\n",
              "      <td>12815700.0</td>\n",
              "      <td>297.347351</td>\n",
              "    </tr>\n",
              "    <tr>\n",
              "      <th>2010-01-08</th>\n",
              "      <td>301.926941</td>\n",
              "      <td>294.849854</td>\n",
              "      <td>296.296295</td>\n",
              "      <td>301.311310</td>\n",
              "      <td>9439100.0</td>\n",
              "      <td>301.311310</td>\n",
              "    </tr>\n",
              "    <tr>\n",
              "      <th>...</th>\n",
              "      <td>...</td>\n",
              "      <td>...</td>\n",
              "      <td>...</td>\n",
              "      <td>...</td>\n",
              "      <td>...</td>\n",
              "      <td>...</td>\n",
              "    </tr>\n",
              "    <tr>\n",
              "      <th>2019-12-24</th>\n",
              "      <td>1352.010010</td>\n",
              "      <td>1344.170044</td>\n",
              "      <td>1350.209961</td>\n",
              "      <td>1344.430054</td>\n",
              "      <td>673400.0</td>\n",
              "      <td>1344.430054</td>\n",
              "    </tr>\n",
              "    <tr>\n",
              "      <th>2019-12-26</th>\n",
              "      <td>1363.199951</td>\n",
              "      <td>1345.510010</td>\n",
              "      <td>1346.550049</td>\n",
              "      <td>1362.469971</td>\n",
              "      <td>1183100.0</td>\n",
              "      <td>1362.469971</td>\n",
              "    </tr>\n",
              "    <tr>\n",
              "      <th>2019-12-27</th>\n",
              "      <td>1367.050049</td>\n",
              "      <td>1353.000000</td>\n",
              "      <td>1364.000000</td>\n",
              "      <td>1354.640015</td>\n",
              "      <td>1160600.0</td>\n",
              "      <td>1354.640015</td>\n",
              "    </tr>\n",
              "    <tr>\n",
              "      <th>2019-12-30</th>\n",
              "      <td>1357.000000</td>\n",
              "      <td>1337.839966</td>\n",
              "      <td>1356.810059</td>\n",
              "      <td>1339.709961</td>\n",
              "      <td>999700.0</td>\n",
              "      <td>1339.709961</td>\n",
              "    </tr>\n",
              "    <tr>\n",
              "      <th>2019-12-31</th>\n",
              "      <td>1340.660034</td>\n",
              "      <td>1332.130005</td>\n",
              "      <td>1335.790039</td>\n",
              "      <td>1339.390015</td>\n",
              "      <td>975700.0</td>\n",
              "      <td>1339.390015</td>\n",
              "    </tr>\n",
              "  </tbody>\n",
              "</table>\n",
              "<p>2516 rows × 6 columns</p>\n",
              "</div>"
            ],
            "text/plain": [
              "                   High          Low  ...      Volume    Adj Close\n",
              "Date                                  ...                         \n",
              "2010-01-04   315.070068   312.432434  ...   3908400.0   313.688690\n",
              "2010-01-05   314.234222   311.081085  ...   6003300.0   312.307312\n",
              "2010-01-06   313.243256   303.483490  ...   7949400.0   304.434448\n",
              "2010-01-07   305.305298   296.621613  ...  12815700.0   297.347351\n",
              "2010-01-08   301.926941   294.849854  ...   9439100.0   301.311310\n",
              "...                 ...          ...  ...         ...          ...\n",
              "2019-12-24  1352.010010  1344.170044  ...    673400.0  1344.430054\n",
              "2019-12-26  1363.199951  1345.510010  ...   1183100.0  1362.469971\n",
              "2019-12-27  1367.050049  1353.000000  ...   1160600.0  1354.640015\n",
              "2019-12-30  1357.000000  1337.839966  ...    999700.0  1339.709961\n",
              "2019-12-31  1340.660034  1332.130005  ...    975700.0  1339.390015\n",
              "\n",
              "[2516 rows x 6 columns]"
            ]
          },
          "metadata": {
            "tags": []
          },
          "execution_count": 2
        }
      ]
    },
    {
      "cell_type": "code",
      "metadata": {
        "id": "bOAZJLapuSOa",
        "colab_type": "code",
        "colab": {
          "base_uri": "https://localhost:8080/",
          "height": 35
        },
        "outputId": "ce3692e6-7d0d-498a-d0cc-511254e71e3e"
      },
      "source": [
        "#find the number of rows and columns in the dataset\n",
        "df.shape"
      ],
      "execution_count": 3,
      "outputs": [
        {
          "output_type": "execute_result",
          "data": {
            "text/plain": [
              "(2516, 6)"
            ]
          },
          "metadata": {
            "tags": []
          },
          "execution_count": 3
        }
      ]
    },
    {
      "cell_type": "code",
      "metadata": {
        "id": "MZbQisSkufHW",
        "colab_type": "code",
        "colab": {
          "base_uri": "https://localhost:8080/",
          "height": 531
        },
        "outputId": "dc7db825-3f9d-498e-898d-b86442651eb6"
      },
      "source": [
        "#visualize the closing price data \n",
        "plt.figure(figsize = (16,8))\n",
        "plt.title('Close History')\n",
        "plt.plot(df['Close'])\n",
        "plt.xlabel('DATE')\n",
        "plt.ylabel('Close Price in USD')\n",
        "plt.show"
      ],
      "execution_count": 4,
      "outputs": [
        {
          "output_type": "execute_result",
          "data": {
            "text/plain": [
              "<function matplotlib.pyplot.show>"
            ]
          },
          "metadata": {
            "tags": []
          },
          "execution_count": 4
        },
        {
          "output_type": "display_data",
          "data": {
            "image/png": "[encoded data removed]",
            "text/plain": [
              "<Figure size 1152x576 with 1 Axes>"
            ]
          },
          "metadata": {
            "tags": [],
            "needs_background": "light"
          }
        }
      ]
    },
    {
      "cell_type": "code",
      "metadata": {
        "id": "2aYVwp9Qu1Z3",
        "colab_type": "code",
        "colab": {
          "base_uri": "https://localhost:8080/",
          "height": 35
        },
        "outputId": "aa981ae3-ca56-4890-9d93-33c36e14aa59"
      },
      "source": [
        "#create a new dataframe with only close column \n",
        "data = df.filter(['Close']) \n",
        "\n",
        "#convert dataframe to numpy array \n",
        "\n",
        "dataset = data.values\n",
        "#get the number of rows to train the model on \n",
        "\n",
        "training_data_len = math.ceil(len(dataset)*0.8)\n",
        "\n",
        "training_data_len"
      ],
      "execution_count": 5,
      "outputs": [
        {
          "output_type": "execute_result",
          "data": {
            "text/plain": [
              "2013"
            ]
          },
          "metadata": {
            "tags": []
          },
          "execution_count": 5
        }
      ]
    },
    {
      "cell_type": "code",
      "metadata": {
        "id": "8og1FITswSG3",
        "colab_type": "code",
        "colab": {
          "base_uri": "https://localhost:8080/",
          "height": 139
        },
        "outputId": "eadb1404-5908-4ea4-a392-98f622446a90"
      },
      "source": [
        "#Scale the data to convert the values between 0 and 1 \n",
        "\n",
        "scaler = MinMaxScaler(feature_range=(0,1))\n",
        "scaled_data = scaler.fit_transform(dataset)\n",
        "\n",
        "scaled_data"
      ],
      "execution_count": 6,
      "outputs": [
        {
          "output_type": "execute_result",
          "data": {
            "text/plain": [
              "array([[0.08340679],\n",
              "       [0.08219952],\n",
              "       [0.07531895],\n",
              "       ...,\n",
              "       [0.99315693],\n",
              "       [0.98010865],\n",
              "       [0.97982903]])"
            ]
          },
          "metadata": {
            "tags": []
          },
          "execution_count": 6
        }
      ]
    },
    {
      "cell_type": "code",
      "metadata": {
        "id": "sBdYUsOUwnTh",
        "colab_type": "code",
        "colab": {
          "base_uri": "https://localhost:8080/",
          "height": 243
        },
        "outputId": "7b368c38-b2f2-4a3a-d12b-6617820c6673"
      },
      "source": [
        "#create the training dataset\n",
        "\n",
        "train_data = scaled_data[0:training_data_len , :]\n",
        "\n",
        "#Split the data in X_train , y_train \n",
        "\n",
        "X_train = []\n",
        "y_train = []\n",
        "\n",
        "for i in range(60, len(train_data)):\n",
        "  X_train.append(train_data[i-60:i , 0])\n",
        "  y_train.append(train_data[i  , 0])\n",
        "  if(i<=60):\n",
        "    print(X_train)\n",
        "    print(y_train)\n"
      ],
      "execution_count": 7,
      "outputs": [
        {
          "output_type": "stream",
          "text": [
            "[array([0.08340679, 0.08219952, 0.07531895, 0.0691251 , 0.07258945,\n",
            "       0.07219141, 0.06754164, 0.0660588 , 0.06726607, 0.06295751,\n",
            "       0.06629063, 0.06313684, 0.06426101, 0.04983935, 0.04546081,\n",
            "       0.04651936, 0.04637939, 0.04296316, 0.04106039, 0.04240763,\n",
            "       0.04157655, 0.04581951, 0.03967815, 0.04165091, 0.04260448,\n",
            "       0.04390361, 0.04303314, 0.04388611, 0.04245137, 0.04602946,\n",
            "       0.04467782, 0.04686931, 0.04579326, 0.04668557, 0.04330434,\n",
            "       0.04172964, 0.03952506, 0.0396869 , 0.04226328, 0.04592448,\n",
            "       0.04778786, 0.05184273, 0.05605069, 0.05529395, 0.05429226,\n",
            "       0.06140469, 0.06345618, 0.0627563 , 0.05560014, 0.05648373,\n",
            "       0.05664119, 0.05700864, 0.05420916, 0.05311561, 0.04939757,\n",
            "       0.05304125, 0.05546892, 0.05538581, 0.05528083, 0.05714424])]\n",
            "[0.05732357362978924]\n"
          ],
          "name": "stdout"
        }
      ]
    },
    {
      "cell_type": "code",
      "metadata": {
        "id": "_ibxS59Oz2G9",
        "colab_type": "code",
        "colab": {}
      },
      "source": [
        "#convert X_train and y_train to np.array\n",
        "\n",
        "X_train, y_train = np.array(X_train),np.array(y_train)\n"
      ],
      "execution_count": 0,
      "outputs": []
    },
    {
      "cell_type": "code",
      "metadata": {
        "id": "OGYOeLyj0H2t",
        "colab_type": "code",
        "colab": {
          "base_uri": "https://localhost:8080/",
          "height": 35
        },
        "outputId": "941fad75-df68-4177-80a4-c9841eb280f0"
      },
      "source": [
        "#Reshape the data\n",
        "#because lstm expects the data to be 3D\n",
        "X_train = np.reshape(X_train,(X_train.shape[0],X_train.shape[1],1))\n",
        "X_train.shape"
      ],
      "execution_count": 9,
      "outputs": [
        {
          "output_type": "execute_result",
          "data": {
            "text/plain": [
              "(1953, 60, 1)"
            ]
          },
          "metadata": {
            "tags": []
          },
          "execution_count": 9
        }
      ]
    },
    {
      "cell_type": "code",
      "metadata": {
        "id": "yZstJDvV0Q7x",
        "colab_type": "code",
        "colab": {}
      },
      "source": [
        "#Building the model\n",
        "model = Sequential()\n",
        "model.add(LSTM(50,return_sequences=True,input_shape=(X_train.shape[1],1)))\n",
        "model.add(LSTM(50,return_sequences=False))\n",
        "model.add(Dense(25))\n",
        "model.add(Dense(1))"
      ],
      "execution_count": 0,
      "outputs": []
    },
    {
      "cell_type": "code",
      "metadata": {
        "id": "DqISmFNV05Bt",
        "colab_type": "code",
        "colab": {}
      },
      "source": [
        "#Build the model\n",
        "\n",
        "model.compile(optimizer = 'adam' ,loss ='mean_squared_error')\n"
      ],
      "execution_count": 0,
      "outputs": []
    },
    {
      "cell_type": "code",
      "metadata": {
        "id": "x5lj6oeJ1E4o",
        "colab_type": "code",
        "colab": {
          "base_uri": "https://localhost:8080/",
          "height": 173
        },
        "outputId": "d83ccd35-92d3-45ce-a7ce-7ee55a3afb61"
      },
      "source": [
        "model.fit(X_train,y_train , batch_size=4,epochs=4)"
      ],
      "execution_count": 12,
      "outputs": [
        {
          "output_type": "stream",
          "text": [
            "Epoch 1/4\n",
            "1953/1953 [==============================] - 27s 14ms/step - loss: 9.7568e-04\n",
            "Epoch 2/4\n",
            "1953/1953 [==============================] - 26s 13ms/step - loss: 3.8375e-04\n",
            "Epoch 3/4\n",
            "1953/1953 [==============================] - 26s 13ms/step - loss: 2.5354e-04\n",
            "Epoch 4/4\n",
            "1953/1953 [==============================] - 26s 13ms/step - loss: 2.0496e-04\n"
          ],
          "name": "stdout"
        },
        {
          "output_type": "execute_result",
          "data": {
            "text/plain": [
              "<keras.callbacks.callbacks.History at 0x7f228e4def28>"
            ]
          },
          "metadata": {
            "tags": []
          },
          "execution_count": 12
        }
      ]
    },
    {
      "cell_type": "code",
      "metadata": {
        "id": "MNQUrtP31LTh",
        "colab_type": "code",
        "colab": {}
      },
      "source": [
        "#Create the testing dataset \n",
        "\n",
        "#a new array from 2013 to forward\n",
        "\n",
        "test_data = scaled_data[training_data_len -60 : , :]\n",
        "X_test =[]\n",
        "y_test=dataset[training_data_len: , :]\n",
        "for i in range(60, len(test_data)):\n",
        "  X_test.append(test_data[i-60 : i , 0])\n",
        "  \n"
      ],
      "execution_count": 0,
      "outputs": []
    },
    {
      "cell_type": "code",
      "metadata": {
        "id": "80ToWwm92Emf",
        "colab_type": "code",
        "colab": {}
      },
      "source": [
        "#convert to numpy array\n",
        "X_test = np.array(X_test)\n",
        "\n",
        "#Reshape the data\n",
        "\n",
        "X_test = np.reshape(X_test , (X_test.shape[0], X_test.shape[1],1))\n"
      ],
      "execution_count": 0,
      "outputs": []
    },
    {
      "cell_type": "code",
      "metadata": {
        "id": "7EahfHir2Xv7",
        "colab_type": "code",
        "colab": {}
      },
      "source": [
        "#get the predicted price value\n",
        "predictions = model.predict(X_test)\n",
        "predictions = scaler.inverse_transform(predictions)\n"
      ],
      "execution_count": 0,
      "outputs": []
    },
    {
      "cell_type": "code",
      "metadata": {
        "id": "IDcuF5Nh2pKS",
        "colab_type": "code",
        "colab": {
          "base_uri": "https://localhost:8080/",
          "height": 35
        },
        "outputId": "ba6a14ed-f436-4bab-a718-0f08e1549589"
      },
      "source": [
        "#Get the root mean square error \n",
        "rmse=np.sqrt(np.mean(((predictions- y_test)**2)))\n",
        "rmse\n"
      ],
      "execution_count": 16,
      "outputs": [
        {
          "output_type": "execute_result",
          "data": {
            "text/plain": [
              "30.11435043449671"
            ]
          },
          "metadata": {
            "tags": []
          },
          "execution_count": 16
        }
      ]
    },
    {
      "cell_type": "code",
      "metadata": {
        "id": "PO3MWtNR217C",
        "colab_type": "code",
        "colab": {
          "base_uri": "https://localhost:8080/",
          "height": 121
        },
        "outputId": "2806d99a-92da-49d4-b569-3a0fb562f435"
      },
      "source": [
        "#Plot the data\n",
        "\n",
        "train = data[:training_data_len]\n",
        "valid = data[training_data_len:]\n",
        "valid['Predictions'] = predictions"
      ],
      "execution_count": 17,
      "outputs": [
        {
          "output_type": "stream",
          "text": [
            "/usr/local/lib/python3.6/dist-packages/ipykernel_launcher.py:4: SettingWithCopyWarning: \n",
            "A value is trying to be set on a copy of a slice from a DataFrame.\n",
            "Try using .loc[row_indexer,col_indexer] = value instead\n",
            "\n",
            "See the caveats in the documentation: https://pandas.pydata.org/pandas-docs/stable/user_guide/indexing.html#returning-a-view-versus-a-copy\n",
            "  after removing the cwd from sys.path.\n"
          ],
          "name": "stderr"
        }
      ]
    },
    {
      "cell_type": "code",
      "metadata": {
        "id": "ANxKQDgp3Kwu",
        "colab_type": "code",
        "colab": {
          "base_uri": "https://localhost:8080/",
          "height": 513
        },
        "outputId": "01627d6b-294c-40ad-f8a8-608d1d95550e"
      },
      "source": [
        "plt.figure(figsize = (16,8))\n",
        "plt.title('Model')\n",
        "plt.xlabel('Date')\n",
        "plt.ylabel('Close Price in USD')\n",
        "plt.plot(train['Close'])\n",
        "plt.plot(valid[['Close', 'Predictions']])\n",
        "plt.show()"
      ],
      "execution_count": 18,
      "outputs": [
        {
          "output_type": "display_data",
          "data": {
            "image/png": "[encoded data removed]",
            "text/plain": [
              "<Figure size 1152x576 with 1 Axes>"
            ]
          },
          "metadata": {
            "tags": [],
            "needs_background": "light"
          }
        }
      ]
    },
    {
      "cell_type": "code",
      "metadata": {
        "id": "XTZKE9VG3bD1",
        "colab_type": "code",
        "colab": {
          "base_uri": "https://localhost:8080/",
          "height": 446
        },
        "outputId": "dc6d5dfa-194e-453e-a93d-a1eeb157ba80"
      },
      "source": [
        "#show the valid and predicted prices\n",
        "valid\n"
      ],
      "execution_count": 19,
      "outputs": [
        {
          "output_type": "execute_result",
          "data": {
            "text/html": [
              "<div>\n",
              "<style scoped>\n",
              "    .dataframe tbody tr th:only-of-type {\n",
              "        vertical-align: middle;\n",
              "    }\n",
              "\n",
              "    .dataframe tbody tr th {\n",
              "        vertical-align: top;\n",
              "    }\n",
              "\n",
              "    .dataframe thead th {\n",
              "        text-align: right;\n",
              "    }\n",
              "</style>\n",
              "<table border=\"1\" class=\"dataframe\">\n",
              "  <thead>\n",
              "    <tr style=\"text-align: right;\">\n",
              "      <th></th>\n",
              "      <th>Close</th>\n",
              "      <th>Predictions</th>\n",
              "    </tr>\n",
              "    <tr>\n",
              "      <th>Date</th>\n",
              "      <th></th>\n",
              "      <th></th>\n",
              "    </tr>\n",
              "  </thead>\n",
              "  <tbody>\n",
              "    <tr>\n",
              "      <th>2018-01-02</th>\n",
              "      <td>1073.209961</td>\n",
              "      <td>1077.938354</td>\n",
              "    </tr>\n",
              "    <tr>\n",
              "      <th>2018-01-03</th>\n",
              "      <td>1091.520020</td>\n",
              "      <td>1078.242188</td>\n",
              "    </tr>\n",
              "    <tr>\n",
              "      <th>2018-01-04</th>\n",
              "      <td>1095.760010</td>\n",
              "      <td>1083.547729</td>\n",
              "    </tr>\n",
              "    <tr>\n",
              "      <th>2018-01-05</th>\n",
              "      <td>1110.290039</td>\n",
              "      <td>1090.929077</td>\n",
              "    </tr>\n",
              "    <tr>\n",
              "      <th>2018-01-08</th>\n",
              "      <td>1114.209961</td>\n",
              "      <td>1100.611694</td>\n",
              "    </tr>\n",
              "    <tr>\n",
              "      <th>...</th>\n",
              "      <td>...</td>\n",
              "      <td>...</td>\n",
              "    </tr>\n",
              "    <tr>\n",
              "      <th>2019-12-24</th>\n",
              "      <td>1344.430054</td>\n",
              "      <td>1365.979614</td>\n",
              "    </tr>\n",
              "    <tr>\n",
              "      <th>2019-12-26</th>\n",
              "      <td>1362.469971</td>\n",
              "      <td>1363.968140</td>\n",
              "    </tr>\n",
              "    <tr>\n",
              "      <th>2019-12-27</th>\n",
              "      <td>1354.640015</td>\n",
              "      <td>1365.268921</td>\n",
              "    </tr>\n",
              "    <tr>\n",
              "      <th>2019-12-30</th>\n",
              "      <td>1339.709961</td>\n",
              "      <td>1366.134766</td>\n",
              "    </tr>\n",
              "    <tr>\n",
              "      <th>2019-12-31</th>\n",
              "      <td>1339.390015</td>\n",
              "      <td>1364.012939</td>\n",
              "    </tr>\n",
              "  </tbody>\n",
              "</table>\n",
              "<p>503 rows × 2 columns</p>\n",
              "</div>"
            ],
            "text/plain": [
              "                  Close  Predictions\n",
              "Date                                \n",
              "2018-01-02  1073.209961  1077.938354\n",
              "2018-01-03  1091.520020  1078.242188\n",
              "2018-01-04  1095.760010  1083.547729\n",
              "2018-01-05  1110.290039  1090.929077\n",
              "2018-01-08  1114.209961  1100.611694\n",
              "...                 ...          ...\n",
              "2019-12-24  1344.430054  1365.979614\n",
              "2019-12-26  1362.469971  1363.968140\n",
              "2019-12-27  1354.640015  1365.268921\n",
              "2019-12-30  1339.709961  1366.134766\n",
              "2019-12-31  1339.390015  1364.012939\n",
              "\n",
              "[503 rows x 2 columns]"
            ]
          },
          "metadata": {
            "tags": []
          },
          "execution_count": 19
        }
      ]
    },
    {
      "cell_type": "code",
      "metadata": {
        "id": "YNUQfR5E4ZFd",
        "colab_type": "code",
        "colab": {
          "base_uri": "https://localhost:8080/",
          "height": 446
        },
        "outputId": "f39cb29d-44f9-41f7-92c5-99b2cc03e331"
      },
      "source": [
        "#Get the quote\n",
        "google_quote = web.DataReader('GOOGL',data_source='yahoo',start='2010-01-01',end='2020-01-01')\n",
        "google_quote"
      ],
      "execution_count": 20,
      "outputs": [
        {
          "output_type": "execute_result",
          "data": {
            "text/html": [
              "<div>\n",
              "<style scoped>\n",
              "    .dataframe tbody tr th:only-of-type {\n",
              "        vertical-align: middle;\n",
              "    }\n",
              "\n",
              "    .dataframe tbody tr th {\n",
              "        vertical-align: top;\n",
              "    }\n",
              "\n",
              "    .dataframe thead th {\n",
              "        text-align: right;\n",
              "    }\n",
              "</style>\n",
              "<table border=\"1\" class=\"dataframe\">\n",
              "  <thead>\n",
              "    <tr style=\"text-align: right;\">\n",
              "      <th></th>\n",
              "      <th>High</th>\n",
              "      <th>Low</th>\n",
              "      <th>Open</th>\n",
              "      <th>Close</th>\n",
              "      <th>Volume</th>\n",
              "      <th>Adj Close</th>\n",
              "    </tr>\n",
              "    <tr>\n",
              "      <th>Date</th>\n",
              "      <th></th>\n",
              "      <th></th>\n",
              "      <th></th>\n",
              "      <th></th>\n",
              "      <th></th>\n",
              "      <th></th>\n",
              "    </tr>\n",
              "  </thead>\n",
              "  <tbody>\n",
              "    <tr>\n",
              "      <th>2010-01-04</th>\n",
              "      <td>315.070068</td>\n",
              "      <td>312.432434</td>\n",
              "      <td>313.788788</td>\n",
              "      <td>313.688690</td>\n",
              "      <td>3908400.0</td>\n",
              "      <td>313.688690</td>\n",
              "    </tr>\n",
              "    <tr>\n",
              "      <th>2010-01-05</th>\n",
              "      <td>314.234222</td>\n",
              "      <td>311.081085</td>\n",
              "      <td>313.903900</td>\n",
              "      <td>312.307312</td>\n",
              "      <td>6003300.0</td>\n",
              "      <td>312.307312</td>\n",
              "    </tr>\n",
              "    <tr>\n",
              "      <th>2010-01-06</th>\n",
              "      <td>313.243256</td>\n",
              "      <td>303.483490</td>\n",
              "      <td>313.243256</td>\n",
              "      <td>304.434448</td>\n",
              "      <td>7949400.0</td>\n",
              "      <td>304.434448</td>\n",
              "    </tr>\n",
              "    <tr>\n",
              "      <th>2010-01-07</th>\n",
              "      <td>305.305298</td>\n",
              "      <td>296.621613</td>\n",
              "      <td>305.005005</td>\n",
              "      <td>297.347351</td>\n",
              "      <td>12815700.0</td>\n",
              "      <td>297.347351</td>\n",
              "    </tr>\n",
              "    <tr>\n",
              "      <th>2010-01-08</th>\n",
              "      <td>301.926941</td>\n",
              "      <td>294.849854</td>\n",
              "      <td>296.296295</td>\n",
              "      <td>301.311310</td>\n",
              "      <td>9439100.0</td>\n",
              "      <td>301.311310</td>\n",
              "    </tr>\n",
              "    <tr>\n",
              "      <th>...</th>\n",
              "      <td>...</td>\n",
              "      <td>...</td>\n",
              "      <td>...</td>\n",
              "      <td>...</td>\n",
              "      <td>...</td>\n",
              "      <td>...</td>\n",
              "    </tr>\n",
              "    <tr>\n",
              "      <th>2019-12-24</th>\n",
              "      <td>1352.010010</td>\n",
              "      <td>1344.170044</td>\n",
              "      <td>1350.209961</td>\n",
              "      <td>1344.430054</td>\n",
              "      <td>673400.0</td>\n",
              "      <td>1344.430054</td>\n",
              "    </tr>\n",
              "    <tr>\n",
              "      <th>2019-12-26</th>\n",
              "      <td>1363.199951</td>\n",
              "      <td>1345.510010</td>\n",
              "      <td>1346.550049</td>\n",
              "      <td>1362.469971</td>\n",
              "      <td>1183100.0</td>\n",
              "      <td>1362.469971</td>\n",
              "    </tr>\n",
              "    <tr>\n",
              "      <th>2019-12-27</th>\n",
              "      <td>1367.050049</td>\n",
              "      <td>1353.000000</td>\n",
              "      <td>1364.000000</td>\n",
              "      <td>1354.640015</td>\n",
              "      <td>1160600.0</td>\n",
              "      <td>1354.640015</td>\n",
              "    </tr>\n",
              "    <tr>\n",
              "      <th>2019-12-30</th>\n",
              "      <td>1357.000000</td>\n",
              "      <td>1337.839966</td>\n",
              "      <td>1356.810059</td>\n",
              "      <td>1339.709961</td>\n",
              "      <td>999700.0</td>\n",
              "      <td>1339.709961</td>\n",
              "    </tr>\n",
              "    <tr>\n",
              "      <th>2019-12-31</th>\n",
              "      <td>1340.660034</td>\n",
              "      <td>1332.130005</td>\n",
              "      <td>1335.790039</td>\n",
              "      <td>1339.390015</td>\n",
              "      <td>975700.0</td>\n",
              "      <td>1339.390015</td>\n",
              "    </tr>\n",
              "  </tbody>\n",
              "</table>\n",
              "<p>2516 rows × 6 columns</p>\n",
              "</div>"
            ],
            "text/plain": [
              "                   High          Low  ...      Volume    Adj Close\n",
              "Date                                  ...                         \n",
              "2010-01-04   315.070068   312.432434  ...   3908400.0   313.688690\n",
              "2010-01-05   314.234222   311.081085  ...   6003300.0   312.307312\n",
              "2010-01-06   313.243256   303.483490  ...   7949400.0   304.434448\n",
              "2010-01-07   305.305298   296.621613  ...  12815700.0   297.347351\n",
              "2010-01-08   301.926941   294.849854  ...   9439100.0   301.311310\n",
              "...                 ...          ...  ...         ...          ...\n",
              "2019-12-24  1352.010010  1344.170044  ...    673400.0  1344.430054\n",
              "2019-12-26  1363.199951  1345.510010  ...   1183100.0  1362.469971\n",
              "2019-12-27  1367.050049  1353.000000  ...   1160600.0  1354.640015\n",
              "2019-12-30  1357.000000  1337.839966  ...    999700.0  1339.709961\n",
              "2019-12-31  1340.660034  1332.130005  ...    975700.0  1339.390015\n",
              "\n",
              "[2516 rows x 6 columns]"
            ]
          },
          "metadata": {
            "tags": []
          },
          "execution_count": 20
        }
      ]
    },
    {
      "cell_type": "code",
      "metadata": {
        "id": "g_cpdeID4sGR",
        "colab_type": "code",
        "colab": {
          "base_uri": "https://localhost:8080/",
          "height": 35
        },
        "outputId": "e0614bb9-2c4f-4f26-c040-03db85b61afc"
      },
      "source": [
        "new_df = google_quote.filter(['Close'])\n",
        "\n",
        "#get last 60 days value and convert the data frame to array\n",
        "\n",
        "last_60_days = new_df[-60:].values\n",
        "last_60_days_scaled = scaler.transform(last_60_days)\n",
        "#create an empty list\n",
        "\n",
        "X_test = []\n",
        "#Append past 60 days to X_test\n",
        "\n",
        "X_test.append(last_60_days_scaled)\n",
        "X_test = np.array(X_test)\n",
        "X_test = np.reshape(X_test , (X_test.shape[0],X_test.shape[1],1))\n",
        "pred_price = model.predict(X_test)\n",
        "#undo scaling\n",
        "pred_price = scaler.inverse_transform(pred_price)\n",
        "pred_price"
      ],
      "execution_count": 21,
      "outputs": [
        {
          "output_type": "execute_result",
          "data": {
            "text/plain": [
              "array([[1361.1106]], dtype=float32)"
            ]
          },
          "metadata": {
            "tags": []
          },
          "execution_count": 21
        }
      ]
    },
    {
      "cell_type": "code",
      "metadata": {
        "id": "_pEkexMp5xHS",
        "colab_type": "code",
        "colab": {
          "base_uri": "https://localhost:8080/",
          "height": 110
        },
        "outputId": "e34634d6-36e1-4d17-eaac-9c3e31f4ceb9"
      },
      "source": [
        "google_quote = web.DataReader('GOOGL',data_source='yahoo',start='2020-01-01',end='2020-01-02')\n",
        "google_quote"
      ],
      "execution_count": 23,
      "outputs": [
        {
          "output_type": "execute_result",
          "data": {
            "text/html": [
              "<div>\n",
              "<style scoped>\n",
              "    .dataframe tbody tr th:only-of-type {\n",
              "        vertical-align: middle;\n",
              "    }\n",
              "\n",
              "    .dataframe tbody tr th {\n",
              "        vertical-align: top;\n",
              "    }\n",
              "\n",
              "    .dataframe thead th {\n",
              "        text-align: right;\n",
              "    }\n",
              "</style>\n",
              "<table border=\"1\" class=\"dataframe\">\n",
              "  <thead>\n",
              "    <tr style=\"text-align: right;\">\n",
              "      <th></th>\n",
              "      <th>High</th>\n",
              "      <th>Low</th>\n",
              "      <th>Open</th>\n",
              "      <th>Close</th>\n",
              "      <th>Volume</th>\n",
              "      <th>Adj Close</th>\n",
              "    </tr>\n",
              "    <tr>\n",
              "      <th>Date</th>\n",
              "      <th></th>\n",
              "      <th></th>\n",
              "      <th></th>\n",
              "      <th></th>\n",
              "      <th></th>\n",
              "      <th></th>\n",
              "    </tr>\n",
              "  </thead>\n",
              "  <tbody>\n",
              "    <tr>\n",
              "      <th>2020-01-02</th>\n",
              "      <td>1368.680054</td>\n",
              "      <td>1346.48999</td>\n",
              "      <td>1348.410034</td>\n",
              "      <td>1368.680054</td>\n",
              "      <td>1363900</td>\n",
              "      <td>1368.680054</td>\n",
              "    </tr>\n",
              "  </tbody>\n",
              "</table>\n",
              "</div>"
            ],
            "text/plain": [
              "                   High         Low  ...   Volume    Adj Close\n",
              "Date                                 ...                      \n",
              "2020-01-02  1368.680054  1346.48999  ...  1363900  1368.680054\n",
              "\n",
              "[1 rows x 6 columns]"
            ]
          },
          "metadata": {
            "tags": []
          },
          "execution_count": 23
        }
      ]
    },
    {
      "cell_type": "code",
      "metadata": {
        "id": "Mi3ldBX-56S_",
        "colab_type": "code",
        "colab": {}
      },
      "source": [
        ""
      ],
      "execution_count": 0,
      "outputs": []
    }
  ]
}